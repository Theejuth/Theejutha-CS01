{
  "nbformat": 4,
  "nbformat_minor": 0,
  "metadata": {
    "colab": {
      "name": "CS01-16",
      "provenance": [],
      "authorship_tag": "ABX9TyPjaSRqMOs/6o9clB9Gl6EY",
      "include_colab_link": true
    },
    "kernelspec": {
      "name": "python3",
      "display_name": "Python 3"
    },
    "language_info": {
      "name": "python"
    }
  },
  "cells": [
    {
      "cell_type": "markdown",
      "metadata": {
        "id": "view-in-github",
        "colab_type": "text"
      },
      "source": [
        "<a href=\"https://colab.research.google.com/github/Theejuth/Theejutha-CS01/blob/main/CS01_16.ipynb\" target=\"_parent\"><img src=\"https://colab.research.google.com/assets/colab-badge.svg\" alt=\"Open In Colab\"/></a>"
      ]
    },
    {
      "cell_type": "code",
      "metadata": {
        "colab": {
          "base_uri": "https://localhost:8080/"
        },
        "id": "jmJryYM-Q6JI",
        "outputId": "0ea01a01-f022-4d89-892a-51c8591ab500"
      },
      "source": [
        "import numpy as np\n",
        "arr = np.array([1,2,3,4,5,6,7,8,9,10,11,12,13,14,15,16,17,18,19,20])\n",
        "newarr = arr.reshape(2,5,2)\n",
        "print(newarr)"
      ],
      "execution_count": 8,
      "outputs": [
        {
          "output_type": "stream",
          "text": [
            "[[[ 1  2]\n",
            "  [ 3  4]\n",
            "  [ 5  6]\n",
            "  [ 7  8]\n",
            "  [ 9 10]]\n",
            "\n",
            " [[11 12]\n",
            "  [13 14]\n",
            "  [15 16]\n",
            "  [17 18]\n",
            "  [19 20]]]\n"
          ],
          "name": "stdout"
        }
      ]
    }
  ]
}