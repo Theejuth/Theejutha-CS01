{
  "nbformat": 4,
  "nbformat_minor": 0,
  "metadata": {
    "colab": {
      "name": "CS01-17",
      "provenance": [],
      "authorship_tag": "ABX9TyPqiggFQKrW1X/Vdns97l5e",
      "include_colab_link": true
    },
    "kernelspec": {
      "name": "python3",
      "display_name": "Python 3"
    },
    "language_info": {
      "name": "python"
    }
  },
  "cells": [
    {
      "cell_type": "markdown",
      "metadata": {
        "id": "view-in-github",
        "colab_type": "text"
      },
      "source": [
        "<a href=\"https://colab.research.google.com/github/Theejuth/Theejutha-CS01/blob/main/CS01_17.ipynb\" target=\"_parent\"><img src=\"https://colab.research.google.com/assets/colab-badge.svg\" alt=\"Open In Colab\"/></a>"
      ]
    },
    {
      "cell_type": "code",
      "metadata": {
        "colab": {
          "base_uri": "https://localhost:8080/"
        },
        "id": "6fWOBA7-cq0z",
        "outputId": "d967f539-d5b9-4497-d6c2-3df8beb98565"
      },
      "source": [
        "import numpy as np\n",
        "from numpy import random\n",
        "x = random.randint(100, size = (5,10))\n",
        "print (np.sort(x))"
      ],
      "execution_count": 4,
      "outputs": [
        {
          "output_type": "stream",
          "text": [
            "[[ 0  1 10 10 26 61 71 75 91 98]\n",
            " [ 3  3  6 14 15 30 55 72 94 95]\n",
            " [ 0  4 20 29 31 32 65 84 89 92]\n",
            " [ 5 20 25 31 48 54 57 79 85 99]\n",
            " [ 9 32 36 51 55 57 64 73 76 99]]\n"
          ],
          "name": "stdout"
        }
      ]
    }
  ]
}